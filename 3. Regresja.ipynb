{
 "cells": [
  {
   "cell_type": "markdown",
   "metadata": {
    "colab_type": "text",
    "id": "view-in-github"
   },
   "source": [
    "<a href=\"https://colab.research.google.com/github/marcinwolter/DeepLearning_2020/blob/main/cwiczenia_3a_regresja.ipynb\" target=\"_parent\"><img src=\"https://colab.research.google.com/assets/colab-badge.svg\" alt=\"Open In Colab\"/></a>"
   ]
  },
  {
   "cell_type": "markdown",
   "metadata": {
    "id": "RQH7zbVF8v6g"
   },
   "source": [
    "\n",
    "\n",
    "# **A regression example**\n",
    "\n",
    "Common type of machine learning problem is \"regression\", which consists of predicting a continuous value instead of a discrete label. For instance, predicting the temperature tomorrow, given meteorological data, or predicting the time that a software project will take to complete, given its specifications.\n",
    "\n"
   ]
  },
  {
   "cell_type": "code",
   "execution_count": 1,
   "metadata": {},
   "outputs": [],
   "source": [
    "from keras.models import Sequential\n",
    "from keras.layers import Activation, Dense, Dropout\n",
    "from keras import optimizers"
   ]
  },
  {
   "cell_type": "code",
   "execution_count": 2,
   "metadata": {
    "id": "6Zl5s4feH_v4"
   },
   "outputs": [],
   "source": [
    "\n",
    "import numpy as np\n",
    "import matplotlib.pyplot as plt\n",
    "\n"
   ]
  },
  {
   "cell_type": "markdown",
   "metadata": {
    "id": "qvsAzyjTI3Ie"
   },
   "source": [
    "**1-dimensional data**"
   ]
  },
  {
   "cell_type": "code",
   "execution_count": 3,
   "metadata": {
    "id": "4fEyq6reI8Vi"
   },
   "outputs": [
    {
     "name": "stdout",
     "output_type": "stream",
     "text": [
      "(120,) (120,)\n"
     ]
    }
   ],
   "source": [
    "def funct(x):\n",
    "  return x*x*np.sin(x)+np.log(2*x)\n",
    "\n",
    "size = 120\n",
    "low=0\n",
    "high=12\n",
    "error=15\n",
    "\n",
    "XX_train = np.random.uniform(low=low, high=high, size=size)\n",
    "XX_test = np.random.uniform(low=low, high=high, size=size)\n",
    "yy_train = funct(XX_train) + np.random.normal(0., error, size)\n",
    "yy_test = funct(XX_test) + np.random.normal(0., error, size)\n",
    "\n",
    "print(XX_train.shape, yy_train.shape)"
   ]
  },
  {
   "cell_type": "markdown",
   "metadata": {
    "id": "UK9f3EkaNLKy"
   },
   "source": [
    "Plot the function and data"
   ]
  },
  {
   "cell_type": "code",
   "execution_count": 4,
   "metadata": {
    "id": "Jc4wlpu6NPib"
   },
   "outputs": [
    {
     "name": "stderr",
     "output_type": "stream",
     "text": [
      "C:\\Users\\sikor\\Anaconda\\lib\\site-packages\\ipykernel_launcher.py:2: RuntimeWarning: divide by zero encountered in log\n",
      "  \n"
     ]
    },
    {
     "data": {
      "text/plain": [
       "<function matplotlib.pyplot.show(*args, **kw)>"
      ]
     },
     "execution_count": 4,
     "metadata": {},
     "output_type": "execute_result"
    },
    {
     "data": {
      "image/png": "[encoded data removed]",
      "text/plain": [
       "<Figure size 504x504 with 1 Axes>"
      ]
     },
     "metadata": {
      "needs_background": "light"
     },
     "output_type": "display_data"
    }
   ],
   "source": [
    "fig = plt.figure(figsize=(7,7))\n",
    "\n",
    "plt.plot(XX_train,yy_train, 'o', color='blue', label='Training points')\n",
    "plt.plot(XX_test,yy_test, 'o', color='green', label='Testing points')\n",
    "\n",
    "points = np.linspace(low, high,num=100)\n",
    "plt.plot(points, funct(points),  color='red', label='Function')\n",
    "plt.legend()\n",
    "\n",
    "\n",
    "plt.show"
   ]
  },
  {
   "cell_type": "markdown",
   "metadata": {
    "id": "CS7hU2fiZHzl"
   },
   "source": [
    "\n",
    "**Preparing the data**\n",
    "\n",
    "It would be problematic to feed into a neural network values that all take wildly different ranges. The network might be able to automatically adapt to such heterogeneous data, but it would definitely make learning more difficult. A widespread best practice to deal with such data is to do feature-wise normalization: for each feature in the input data (a column in the input data matrix), we will subtract the mean of the feature and divide by the standard deviation, so that the feature will be centered around 0 and will have a unit standard deviation. This is easily done in Numpy:\n"
   ]
  },
  {
   "cell_type": "code",
   "execution_count": 5,
   "metadata": {
    "id": "cNzLzYMFZNab"
   },
   "outputs": [],
   "source": [
    "# Tutaj należy znormalizować dane, i.e. \n",
    "# - odjąć średnią\n",
    "# - podzielić przez odchylenie standardowe\n",
    "\n",
    "# \n",
    "mean = XX_train.mean(axis=0)\n",
    "XX_train_n = XX_train-mean\n",
    "std = XX_train_n.std(axis=0)\n",
    "XX_train_n /= std\n",
    "\n",
    "# to samo dla X_test\n",
    "XX_test_n = XX_test - mean\n",
    "XX_test_n /= std\n",
    "\n",
    "# A teraz to samo dla yy_train i yy_test\n",
    "mean1 = yy_train.mean(axis=0)\n",
    "yy_train_n = yy_train-mean1\n",
    "std1 = yy_train_n.std(axis=0)\n",
    "yy_train_n /= std1\n",
    "# to samo dla y_test\n",
    "yy_test_n = yy_test - mean1\n",
    "yy_test_n /= std1"
   ]
  },
  {
   "cell_type": "markdown",
   "metadata": {
    "id": "G1akSHhNWUOI"
   },
   "source": [
    "Define neural network"
   ]
  },
  {
   "cell_type": "code",
   "execution_count": 6,
   "metadata": {},
   "outputs": [],
   "source": [
    "from keras import models\n",
    "from keras import layers"
   ]
  },
  {
   "cell_type": "code",
   "execution_count": 7,
   "metadata": {
    "id": "zKnzCxTvWlLF"
   },
   "outputs": [
    {
     "name": "stdout",
     "output_type": "stream",
     "text": [
      "Model: \"sequential\"\n",
      "_________________________________________________________________\n",
      "Layer (type)                 Output Shape              Param #   \n",
      "=================================================================\n",
      "dense (Dense)                (None, 1024)              2048      \n",
      "_________________________________________________________________\n",
      "dropout (Dropout)            (None, 1024)              0         \n",
      "_________________________________________________________________\n",
      "dense_1 (Dense)              (None, 1024)              1049600   \n",
      "_________________________________________________________________\n",
      "dropout_1 (Dropout)          (None, 1024)              0         \n",
      "_________________________________________________________________\n",
      "dense_2 (Dense)              (None, 1)                 1025      \n",
      "=================================================================\n",
      "Total params: 1,052,673\n",
      "Trainable params: 1,052,673\n",
      "Non-trainable params: 0\n",
      "_________________________________________________________________\n"
     ]
    }
   ],
   "source": [
    "# Zbudować sieć neuronową, działa: dwie warstwy ukryte, aktywacja relu\n",
    "\n",
    "model0 = Sequential()\n",
    "#.......\n",
    "model0.add(layers.Dense(1024, activation='relu', input_shape=(1,)))\n",
    "model0.add(Dropout(0.2))\n",
    "model0.add(layers.Dense(1024, activation='relu'))\n",
    "model0.add(Dropout(0.2))\n",
    "model0.add(layers.Dense(1, activation='linear'))\n",
    "\n",
    "model0.compile(optimizer='adam',\n",
    "                    loss='mean_squared_error',\n",
    "                    metrics=['mse'])\n",
    "\n",
    "model0.summary()"
   ]
  },
  {
   "cell_type": "markdown",
   "metadata": {
    "id": "u9pQ61rwWX9F"
   },
   "source": [
    "Train neural network\n",
    "\n",
    "For regression problems, mean squared error (MSE) is often employed\n",
    "\n",
    "\n"
   ]
  },
  {
   "cell_type": "code",
   "execution_count": 8,
   "metadata": {
    "id": "hos2Vg10XBU3"
   },
   "outputs": [
    {
     "name": "stdout",
     "output_type": "stream",
     "text": [
      "Epoch 1/200\n",
      "1/1 [==============================] - 0s 153ms/step - loss: 0.9895 - mse: 0.9895 - val_loss: 0.8061 - val_mse: 0.8061\n",
      "Epoch 2/200\n",
      "1/1 [==============================] - 0s 22ms/step - loss: 0.8727 - mse: 0.8727 - val_loss: 0.6082 - val_mse: 0.6082\n",
      "Epoch 3/200\n",
      "1/1 [==============================] - 0s 22ms/step - loss: 0.8258 - mse: 0.8258 - val_loss: 0.5819 - val_mse: 0.5819\n",
      "Epoch 4/200\n",
      "1/1 [==============================] - 0s 21ms/step - loss: 0.8408 - mse: 0.8408 - val_loss: 0.5827 - val_mse: 0.5827\n",
      "Epoch 5/200\n",
      "1/1 [==============================] - 0s 21ms/step - loss: 0.8160 - mse: 0.8160 - val_loss: 0.5920 - val_mse: 0.5920\n",
      "Epoch 6/200\n",
      "1/1 [==============================] - 0s 24ms/step - loss: 0.7825 - mse: 0.7825 - val_loss: 0.6224 - val_mse: 0.6224\n",
      "Epoch 7/200\n",
      "1/1 [==============================] - 0s 20ms/step - loss: 0.7527 - mse: 0.7527 - val_loss: 0.6542 - val_mse: 0.6542\n",
      "Epoch 8/200\n",
      "1/1 [==============================] - 0s 22ms/step - loss: 0.7520 - mse: 0.7520 - val_loss: 0.6639 - val_mse: 0.6639\n",
      "Epoch 9/200\n",
      "1/1 [==============================] - 0s 21ms/step - loss: 0.7359 - mse: 0.7359 - val_loss: 0.6429 - val_mse: 0.6429\n",
      "Epoch 10/200\n",
      "1/1 [==============================] - 0s 21ms/step - loss: 0.7042 - mse: 0.7042 - val_loss: 0.5986 - val_mse: 0.5986\n",
      "Epoch 11/200\n",
      "1/1 [==============================] - 0s 25ms/step - loss: 0.6864 - mse: 0.6864 - val_loss: 0.5447 - val_mse: 0.5447\n",
      "Epoch 12/200\n",
      "1/1 [==============================] - 0s 22ms/step - loss: 0.6486 - mse: 0.6486 - val_loss: 0.4946 - val_mse: 0.4946\n",
      "Epoch 13/200\n",
      "1/1 [==============================] - 0s 22ms/step - loss: 0.6308 - mse: 0.6308 - val_loss: 0.4554 - val_mse: 0.4554\n",
      "Epoch 14/200\n",
      "1/1 [==============================] - 0s 25ms/step - loss: 0.6003 - mse: 0.6003 - val_loss: 0.4277 - val_mse: 0.4277\n",
      "Epoch 15/200\n",
      "1/1 [==============================] - 0s 24ms/step - loss: 0.5854 - mse: 0.5854 - val_loss: 0.4100 - val_mse: 0.4100\n",
      "Epoch 16/200\n",
      "1/1 [==============================] - 0s 24ms/step - loss: 0.5573 - mse: 0.5573 - val_loss: 0.3988 - val_mse: 0.3988\n",
      "Epoch 17/200\n",
      "1/1 [==============================] - 0s 22ms/step - loss: 0.5187 - mse: 0.5187 - val_loss: 0.3943 - val_mse: 0.3943\n",
      "Epoch 18/200\n",
      "1/1 [==============================] - 0s 24ms/step - loss: 0.4816 - mse: 0.4816 - val_loss: 0.3895 - val_mse: 0.3895\n",
      "Epoch 19/200\n",
      "1/1 [==============================] - 0s 24ms/step - loss: 0.4552 - mse: 0.4552 - val_loss: 0.3779 - val_mse: 0.3779\n",
      "Epoch 20/200\n",
      "1/1 [==============================] - 0s 21ms/step - loss: 0.4389 - mse: 0.4389 - val_loss: 0.3476 - val_mse: 0.3476\n",
      "Epoch 21/200\n",
      "1/1 [==============================] - 0s 21ms/step - loss: 0.3910 - mse: 0.3910 - val_loss: 0.3101 - val_mse: 0.3101\n",
      "Epoch 22/200\n",
      "1/1 [==============================] - 0s 23ms/step - loss: 0.3751 - mse: 0.3751 - val_loss: 0.2724 - val_mse: 0.2724\n",
      "Epoch 23/200\n",
      "1/1 [==============================] - 0s 23ms/step - loss: 0.3363 - mse: 0.3363 - val_loss: 0.2411 - val_mse: 0.2411\n",
      "Epoch 24/200\n",
      "1/1 [==============================] - 0s 24ms/step - loss: 0.3084 - mse: 0.3084 - val_loss: 0.2196 - val_mse: 0.2196\n",
      "Epoch 25/200\n",
      "1/1 [==============================] - 0s 24ms/step - loss: 0.2868 - mse: 0.2868 - val_loss: 0.2079 - val_mse: 0.2079\n",
      "Epoch 26/200\n",
      "1/1 [==============================] - 0s 22ms/step - loss: 0.2542 - mse: 0.2542 - val_loss: 0.2053 - val_mse: 0.2053\n",
      "Epoch 27/200\n",
      "1/1 [==============================] - 0s 24ms/step - loss: 0.2413 - mse: 0.2413 - val_loss: 0.2042 - val_mse: 0.2042\n",
      "Epoch 28/200\n",
      "1/1 [==============================] - 0s 23ms/step - loss: 0.2251 - mse: 0.2251 - val_loss: 0.1987 - val_mse: 0.1987\n",
      "Epoch 29/200\n",
      "1/1 [==============================] - 0s 22ms/step - loss: 0.2265 - mse: 0.2265 - val_loss: 0.1774 - val_mse: 0.1774\n",
      "Epoch 30/200\n",
      "1/1 [==============================] - 0s 22ms/step - loss: 0.1970 - mse: 0.1970 - val_loss: 0.1588 - val_mse: 0.1588\n",
      "Epoch 31/200\n",
      "1/1 [==============================] - 0s 21ms/step - loss: 0.2267 - mse: 0.2267 - val_loss: 0.1560 - val_mse: 0.1560\n",
      "Epoch 32/200\n",
      "1/1 [==============================] - 0s 22ms/step - loss: 0.2146 - mse: 0.2146 - val_loss: 0.1575 - val_mse: 0.1575\n",
      "Epoch 33/200\n",
      "1/1 [==============================] - 0s 23ms/step - loss: 0.2154 - mse: 0.2154 - val_loss: 0.1715 - val_mse: 0.1715\n",
      "Epoch 34/200\n",
      "1/1 [==============================] - 0s 20ms/step - loss: 0.2027 - mse: 0.2027 - val_loss: 0.1679 - val_mse: 0.1679\n",
      "Epoch 35/200\n",
      "1/1 [==============================] - 0s 20ms/step - loss: 0.2156 - mse: 0.2156 - val_loss: 0.1531 - val_mse: 0.1531\n",
      "Epoch 36/200\n",
      "1/1 [==============================] - 0s 21ms/step - loss: 0.2290 - mse: 0.2290 - val_loss: 0.1459 - val_mse: 0.1459\n",
      "Epoch 37/200\n",
      "1/1 [==============================] - 0s 20ms/step - loss: 0.2069 - mse: 0.2069 - val_loss: 0.1437 - val_mse: 0.1437\n",
      "Epoch 38/200\n",
      "1/1 [==============================] - 0s 21ms/step - loss: 0.2229 - mse: 0.2229 - val_loss: 0.1463 - val_mse: 0.1463\n",
      "Epoch 39/200\n",
      "1/1 [==============================] - 0s 23ms/step - loss: 0.2207 - mse: 0.2207 - val_loss: 0.1495 - val_mse: 0.1495\n",
      "Epoch 40/200\n",
      "1/1 [==============================] - 0s 22ms/step - loss: 0.1857 - mse: 0.1857 - val_loss: 0.1438 - val_mse: 0.1438\n",
      "Epoch 41/200\n",
      "1/1 [==============================] - 0s 21ms/step - loss: 0.2029 - mse: 0.2029 - val_loss: 0.1402 - val_mse: 0.1402\n",
      "Epoch 42/200\n",
      "1/1 [==============================] - 0s 23ms/step - loss: 0.1596 - mse: 0.1596 - val_loss: 0.1386 - val_mse: 0.1386\n",
      "Epoch 43/200\n",
      "1/1 [==============================] - 0s 22ms/step - loss: 0.1593 - mse: 0.1593 - val_loss: 0.1356 - val_mse: 0.1356\n",
      "Epoch 44/200\n",
      "1/1 [==============================] - 0s 23ms/step - loss: 0.1843 - mse: 0.1843 - val_loss: 0.1349 - val_mse: 0.1349\n",
      "Epoch 45/200\n",
      "1/1 [==============================] - 0s 23ms/step - loss: 0.1730 - mse: 0.1730 - val_loss: 0.1345 - val_mse: 0.1345\n",
      "Epoch 46/200\n",
      "1/1 [==============================] - 0s 23ms/step - loss: 0.1602 - mse: 0.1602 - val_loss: 0.1404 - val_mse: 0.1404\n",
      "Epoch 47/200\n",
      "1/1 [==============================] - 0s 25ms/step - loss: 0.2026 - mse: 0.2026 - val_loss: 0.1561 - val_mse: 0.1561\n",
      "Epoch 48/200\n",
      "1/1 [==============================] - 0s 26ms/step - loss: 0.1823 - mse: 0.1823 - val_loss: 0.1550 - val_mse: 0.1550\n",
      "Epoch 49/200\n",
      "1/1 [==============================] - 0s 26ms/step - loss: 0.1705 - mse: 0.1705 - val_loss: 0.1427 - val_mse: 0.1427\n",
      "Epoch 50/200\n",
      "1/1 [==============================] - 0s 22ms/step - loss: 0.1630 - mse: 0.1630 - val_loss: 0.1366 - val_mse: 0.1366\n",
      "Epoch 51/200\n",
      "1/1 [==============================] - 0s 21ms/step - loss: 0.1731 - mse: 0.1731 - val_loss: 0.1361 - val_mse: 0.1361\n",
      "Epoch 52/200\n",
      "1/1 [==============================] - 0s 22ms/step - loss: 0.1765 - mse: 0.1765 - val_loss: 0.1458 - val_mse: 0.1458\n",
      "Epoch 53/200\n",
      "1/1 [==============================] - 0s 24ms/step - loss: 0.1756 - mse: 0.1756 - val_loss: 0.1516 - val_mse: 0.1516\n",
      "Epoch 54/200\n",
      "1/1 [==============================] - 0s 25ms/step - loss: 0.1719 - mse: 0.1719 - val_loss: 0.1420 - val_mse: 0.1420\n",
      "Epoch 55/200\n",
      "1/1 [==============================] - 0s 21ms/step - loss: 0.1480 - mse: 0.1480 - val_loss: 0.1358 - val_mse: 0.1358\n",
      "Epoch 56/200\n",
      "1/1 [==============================] - 0s 22ms/step - loss: 0.1741 - mse: 0.1741 - val_loss: 0.1342 - val_mse: 0.1342\n",
      "Epoch 57/200\n",
      "1/1 [==============================] - 0s 21ms/step - loss: 0.1834 - mse: 0.1834 - val_loss: 0.1454 - val_mse: 0.1454\n",
      "Epoch 58/200\n",
      "1/1 [==============================] - 0s 24ms/step - loss: 0.1892 - mse: 0.1892 - val_loss: 0.1695 - val_mse: 0.1695\n",
      "Epoch 59/200\n",
      "1/1 [==============================] - 0s 22ms/step - loss: 0.1805 - mse: 0.1805 - val_loss: 0.1605 - val_mse: 0.1605\n",
      "Epoch 60/200\n",
      "1/1 [==============================] - 0s 23ms/step - loss: 0.1759 - mse: 0.1759 - val_loss: 0.1393 - val_mse: 0.1393\n",
      "Epoch 61/200\n",
      "1/1 [==============================] - 0s 22ms/step - loss: 0.1676 - mse: 0.1676 - val_loss: 0.1292 - val_mse: 0.1292\n",
      "Epoch 62/200\n",
      "1/1 [==============================] - 0s 21ms/step - loss: 0.1901 - mse: 0.1901 - val_loss: 0.1284 - val_mse: 0.1284\n",
      "Epoch 63/200\n"
     ]
    },
    {
     "name": "stdout",
     "output_type": "stream",
     "text": [
      "1/1 [==============================] - 0s 21ms/step - loss: 0.1661 - mse: 0.1661 - val_loss: 0.1344 - val_mse: 0.1344\n",
      "Epoch 64/200\n",
      "1/1 [==============================] - 0s 20ms/step - loss: 0.1873 - mse: 0.1873 - val_loss: 0.1578 - val_mse: 0.1578\n",
      "Epoch 65/200\n",
      "1/1 [==============================] - 0s 20ms/step - loss: 0.1593 - mse: 0.1593 - val_loss: 0.1651 - val_mse: 0.1651\n",
      "Epoch 66/200\n",
      "1/1 [==============================] - 0s 20ms/step - loss: 0.1850 - mse: 0.1850 - val_loss: 0.1424 - val_mse: 0.1424\n",
      "Epoch 67/200\n",
      "1/1 [==============================] - 0s 22ms/step - loss: 0.1735 - mse: 0.1735 - val_loss: 0.1261 - val_mse: 0.1261\n",
      "Epoch 68/200\n",
      "1/1 [==============================] - 0s 20ms/step - loss: 0.1944 - mse: 0.1944 - val_loss: 0.1264 - val_mse: 0.1264\n",
      "Epoch 69/200\n",
      "1/1 [==============================] - 0s 21ms/step - loss: 0.1750 - mse: 0.1750 - val_loss: 0.1344 - val_mse: 0.1344\n",
      "Epoch 70/200\n",
      "1/1 [==============================] - 0s 22ms/step - loss: 0.1781 - mse: 0.1781 - val_loss: 0.1500 - val_mse: 0.1500\n",
      "Epoch 71/200\n",
      "1/1 [==============================] - 0s 27ms/step - loss: 0.1698 - mse: 0.1698 - val_loss: 0.1538 - val_mse: 0.1538\n",
      "Epoch 72/200\n",
      "1/1 [==============================] - 0s 24ms/step - loss: 0.1785 - mse: 0.1785 - val_loss: 0.1415 - val_mse: 0.1415\n",
      "Epoch 73/200\n",
      "1/1 [==============================] - 0s 22ms/step - loss: 0.1719 - mse: 0.1719 - val_loss: 0.1321 - val_mse: 0.1321\n",
      "Epoch 74/200\n",
      "1/1 [==============================] - 0s 20ms/step - loss: 0.1703 - mse: 0.1703 - val_loss: 0.1280 - val_mse: 0.1280\n",
      "Epoch 75/200\n",
      "1/1 [==============================] - 0s 29ms/step - loss: 0.1808 - mse: 0.1808 - val_loss: 0.1298 - val_mse: 0.1298\n",
      "Epoch 76/200\n",
      "1/1 [==============================] - 0s 22ms/step - loss: 0.1679 - mse: 0.1679 - val_loss: 0.1350 - val_mse: 0.1350\n",
      "Epoch 77/200\n",
      "1/1 [==============================] - 0s 23ms/step - loss: 0.1665 - mse: 0.1665 - val_loss: 0.1446 - val_mse: 0.1446\n",
      "Epoch 78/200\n",
      "1/1 [==============================] - 0s 21ms/step - loss: 0.1786 - mse: 0.1786 - val_loss: 0.1494 - val_mse: 0.1494\n",
      "Epoch 79/200\n",
      "1/1 [==============================] - 0s 21ms/step - loss: 0.1669 - mse: 0.1669 - val_loss: 0.1380 - val_mse: 0.1380\n",
      "Epoch 80/200\n",
      "1/1 [==============================] - 0s 20ms/step - loss: 0.1576 - mse: 0.1576 - val_loss: 0.1288 - val_mse: 0.1288\n",
      "Epoch 81/200\n",
      "1/1 [==============================] - 0s 24ms/step - loss: 0.1575 - mse: 0.1575 - val_loss: 0.1266 - val_mse: 0.1266\n",
      "Epoch 82/200\n",
      "1/1 [==============================] - 0s 23ms/step - loss: 0.1701 - mse: 0.1701 - val_loss: 0.1291 - val_mse: 0.1291\n",
      "Epoch 83/200\n",
      "1/1 [==============================] - 0s 23ms/step - loss: 0.1598 - mse: 0.1598 - val_loss: 0.1362 - val_mse: 0.1362\n",
      "Epoch 84/200\n",
      "1/1 [==============================] - 0s 20ms/step - loss: 0.1659 - mse: 0.1659 - val_loss: 0.1424 - val_mse: 0.1424\n",
      "Epoch 85/200\n",
      "1/1 [==============================] - 0s 21ms/step - loss: 0.1592 - mse: 0.1592 - val_loss: 0.1339 - val_mse: 0.1339\n",
      "Epoch 86/200\n",
      "1/1 [==============================] - 0s 21ms/step - loss: 0.1743 - mse: 0.1743 - val_loss: 0.1259 - val_mse: 0.1259\n",
      "Epoch 87/200\n",
      "1/1 [==============================] - 0s 23ms/step - loss: 0.1617 - mse: 0.1617 - val_loss: 0.1234 - val_mse: 0.1234\n",
      "Epoch 88/200\n",
      "1/1 [==============================] - 0s 20ms/step - loss: 0.1681 - mse: 0.1681 - val_loss: 0.1263 - val_mse: 0.1263\n",
      "Epoch 89/200\n",
      "1/1 [==============================] - 0s 22ms/step - loss: 0.1623 - mse: 0.1623 - val_loss: 0.1382 - val_mse: 0.1382\n",
      "Epoch 90/200\n",
      "1/1 [==============================] - 0s 20ms/step - loss: 0.1604 - mse: 0.1604 - val_loss: 0.1459 - val_mse: 0.1459\n",
      "Epoch 91/200\n",
      "1/1 [==============================] - 0s 24ms/step - loss: 0.1599 - mse: 0.1599 - val_loss: 0.1358 - val_mse: 0.1358\n",
      "Epoch 92/200\n",
      "1/1 [==============================] - 0s 20ms/step - loss: 0.1553 - mse: 0.1553 - val_loss: 0.1246 - val_mse: 0.1246\n",
      "Epoch 93/200\n",
      "1/1 [==============================] - 0s 22ms/step - loss: 0.1786 - mse: 0.1786 - val_loss: 0.1231 - val_mse: 0.1231\n",
      "Epoch 94/200\n",
      "1/1 [==============================] - 0s 22ms/step - loss: 0.1604 - mse: 0.1604 - val_loss: 0.1297 - val_mse: 0.1297\n",
      "Epoch 95/200\n",
      "1/1 [==============================] - 0s 22ms/step - loss: 0.1693 - mse: 0.1693 - val_loss: 0.1408 - val_mse: 0.1408\n",
      "Epoch 96/200\n",
      "1/1 [==============================] - 0s 24ms/step - loss: 0.1685 - mse: 0.1685 - val_loss: 0.1420 - val_mse: 0.1420\n",
      "Epoch 97/200\n",
      "1/1 [==============================] - 0s 22ms/step - loss: 0.1517 - mse: 0.1517 - val_loss: 0.1363 - val_mse: 0.1363\n",
      "Epoch 98/200\n",
      "1/1 [==============================] - 0s 24ms/step - loss: 0.1506 - mse: 0.1506 - val_loss: 0.1296 - val_mse: 0.1296\n",
      "Epoch 99/200\n",
      "1/1 [==============================] - 0s 22ms/step - loss: 0.1420 - mse: 0.1420 - val_loss: 0.1258 - val_mse: 0.1258\n",
      "Epoch 100/200\n",
      "1/1 [==============================] - 0s 23ms/step - loss: 0.1610 - mse: 0.1610 - val_loss: 0.1300 - val_mse: 0.1300\n",
      "Epoch 101/200\n",
      "1/1 [==============================] - 0s 23ms/step - loss: 0.1486 - mse: 0.1486 - val_loss: 0.1327 - val_mse: 0.1327\n",
      "Epoch 102/200\n",
      "1/1 [==============================] - 0s 21ms/step - loss: 0.1457 - mse: 0.1457 - val_loss: 0.1311 - val_mse: 0.1311\n",
      "Epoch 103/200\n",
      "1/1 [==============================] - 0s 21ms/step - loss: 0.1535 - mse: 0.1535 - val_loss: 0.1274 - val_mse: 0.1274\n",
      "Epoch 104/200\n",
      "1/1 [==============================] - 0s 22ms/step - loss: 0.1452 - mse: 0.1452 - val_loss: 0.1272 - val_mse: 0.1272\n",
      "Epoch 105/200\n",
      "1/1 [==============================] - 0s 22ms/step - loss: 0.1440 - mse: 0.1440 - val_loss: 0.1316 - val_mse: 0.1316\n",
      "Epoch 106/200\n",
      "1/1 [==============================] - 0s 21ms/step - loss: 0.1731 - mse: 0.1731 - val_loss: 0.1299 - val_mse: 0.1299\n",
      "Epoch 107/200\n",
      "1/1 [==============================] - 0s 22ms/step - loss: 0.1798 - mse: 0.1798 - val_loss: 0.1328 - val_mse: 0.1328\n",
      "Epoch 108/200\n",
      "1/1 [==============================] - 0s 22ms/step - loss: 0.1441 - mse: 0.1441 - val_loss: 0.1248 - val_mse: 0.1248\n",
      "Epoch 109/200\n",
      "1/1 [==============================] - 0s 21ms/step - loss: 0.1576 - mse: 0.1576 - val_loss: 0.1208 - val_mse: 0.1208\n",
      "Epoch 110/200\n",
      "1/1 [==============================] - 0s 21ms/step - loss: 0.1564 - mse: 0.1564 - val_loss: 0.1220 - val_mse: 0.1220\n",
      "Epoch 111/200\n",
      "1/1 [==============================] - 0s 19ms/step - loss: 0.1458 - mse: 0.1458 - val_loss: 0.1272 - val_mse: 0.1272\n",
      "Epoch 112/200\n",
      "1/1 [==============================] - 0s 20ms/step - loss: 0.1490 - mse: 0.1490 - val_loss: 0.1363 - val_mse: 0.1363\n",
      "Epoch 113/200\n",
      "1/1 [==============================] - 0s 19ms/step - loss: 0.1486 - mse: 0.1486 - val_loss: 0.1353 - val_mse: 0.1353\n",
      "Epoch 114/200\n",
      "1/1 [==============================] - 0s 20ms/step - loss: 0.1532 - mse: 0.1532 - val_loss: 0.1274 - val_mse: 0.1274\n",
      "Epoch 115/200\n",
      "1/1 [==============================] - 0s 21ms/step - loss: 0.1318 - mse: 0.1318 - val_loss: 0.1214 - val_mse: 0.1214\n",
      "Epoch 116/200\n",
      "1/1 [==============================] - 0s 21ms/step - loss: 0.1581 - mse: 0.1581 - val_loss: 0.1198 - val_mse: 0.1198\n",
      "Epoch 117/200\n",
      "1/1 [==============================] - 0s 23ms/step - loss: 0.1605 - mse: 0.1605 - val_loss: 0.1221 - val_mse: 0.1221\n",
      "Epoch 118/200\n",
      "1/1 [==============================] - 0s 21ms/step - loss: 0.1473 - mse: 0.1473 - val_loss: 0.1313 - val_mse: 0.1313\n",
      "Epoch 119/200\n",
      "1/1 [==============================] - 0s 21ms/step - loss: 0.1547 - mse: 0.1547 - val_loss: 0.1390 - val_mse: 0.1390\n",
      "Epoch 120/200\n",
      "1/1 [==============================] - 0s 23ms/step - loss: 0.1608 - mse: 0.1608 - val_loss: 0.1358 - val_mse: 0.1358\n",
      "Epoch 121/200\n",
      "1/1 [==============================] - 0s 22ms/step - loss: 0.1547 - mse: 0.1547 - val_loss: 0.1223 - val_mse: 0.1223\n",
      "Epoch 122/200\n",
      "1/1 [==============================] - 0s 21ms/step - loss: 0.1346 - mse: 0.1346 - val_loss: 0.1188 - val_mse: 0.1188\n",
      "Epoch 123/200\n",
      "1/1 [==============================] - 0s 20ms/step - loss: 0.1422 - mse: 0.1422 - val_loss: 0.1200 - val_mse: 0.1200\n",
      "Epoch 124/200\n",
      "1/1 [==============================] - 0s 22ms/step - loss: 0.1613 - mse: 0.1613 - val_loss: 0.1278 - val_mse: 0.1278\n",
      "Epoch 125/200\n"
     ]
    },
    {
     "name": "stdout",
     "output_type": "stream",
     "text": [
      "1/1 [==============================] - 0s 22ms/step - loss: 0.1359 - mse: 0.1359 - val_loss: 0.1381 - val_mse: 0.1381\n",
      "Epoch 126/200\n",
      "1/1 [==============================] - 0s 21ms/step - loss: 0.1360 - mse: 0.1360 - val_loss: 0.1332 - val_mse: 0.1332\n",
      "Epoch 127/200\n",
      "1/1 [==============================] - 0s 23ms/step - loss: 0.1366 - mse: 0.1366 - val_loss: 0.1235 - val_mse: 0.1235\n",
      "Epoch 128/200\n",
      "1/1 [==============================] - 0s 21ms/step - loss: 0.1338 - mse: 0.1338 - val_loss: 0.1179 - val_mse: 0.1179\n",
      "Epoch 129/200\n",
      "1/1 [==============================] - 0s 19ms/step - loss: 0.1372 - mse: 0.1372 - val_loss: 0.1172 - val_mse: 0.1172\n",
      "Epoch 130/200\n",
      "1/1 [==============================] - 0s 21ms/step - loss: 0.1405 - mse: 0.1405 - val_loss: 0.1205 - val_mse: 0.1205\n",
      "Epoch 131/200\n",
      "1/1 [==============================] - 0s 22ms/step - loss: 0.1571 - mse: 0.1571 - val_loss: 0.1317 - val_mse: 0.1317\n",
      "Epoch 132/200\n",
      "1/1 [==============================] - 0s 21ms/step - loss: 0.1522 - mse: 0.1522 - val_loss: 0.1338 - val_mse: 0.1338\n",
      "Epoch 133/200\n",
      "1/1 [==============================] - 0s 22ms/step - loss: 0.1470 - mse: 0.1470 - val_loss: 0.1249 - val_mse: 0.1249\n",
      "Epoch 134/200\n",
      "1/1 [==============================] - 0s 21ms/step - loss: 0.1347 - mse: 0.1347 - val_loss: 0.1170 - val_mse: 0.1170\n",
      "Epoch 135/200\n",
      "1/1 [==============================] - 0s 22ms/step - loss: 0.1345 - mse: 0.1345 - val_loss: 0.1160 - val_mse: 0.1160\n",
      "Epoch 136/200\n",
      "1/1 [==============================] - 0s 23ms/step - loss: 0.1569 - mse: 0.1569 - val_loss: 0.1168 - val_mse: 0.1168\n",
      "Epoch 137/200\n",
      "1/1 [==============================] - 0s 23ms/step - loss: 0.1584 - mse: 0.1584 - val_loss: 0.1261 - val_mse: 0.1261\n",
      "Epoch 138/200\n",
      "1/1 [==============================] - 0s 20ms/step - loss: 0.1444 - mse: 0.1444 - val_loss: 0.1315 - val_mse: 0.1315\n",
      "Epoch 139/200\n",
      "1/1 [==============================] - 0s 22ms/step - loss: 0.1245 - mse: 0.1245 - val_loss: 0.1289 - val_mse: 0.1289\n",
      "Epoch 140/200\n",
      "1/1 [==============================] - 0s 21ms/step - loss: 0.1406 - mse: 0.1406 - val_loss: 0.1220 - val_mse: 0.1220\n",
      "Epoch 141/200\n",
      "1/1 [==============================] - 0s 21ms/step - loss: 0.1285 - mse: 0.1285 - val_loss: 0.1171 - val_mse: 0.1171\n",
      "Epoch 142/200\n",
      "1/1 [==============================] - 0s 21ms/step - loss: 0.1442 - mse: 0.1442 - val_loss: 0.1165 - val_mse: 0.1165\n",
      "Epoch 143/200\n",
      "1/1 [==============================] - 0s 20ms/step - loss: 0.1494 - mse: 0.1494 - val_loss: 0.1193 - val_mse: 0.1193\n",
      "Epoch 144/200\n",
      "1/1 [==============================] - 0s 22ms/step - loss: 0.1351 - mse: 0.1351 - val_loss: 0.1230 - val_mse: 0.1230\n",
      "Epoch 145/200\n",
      "1/1 [==============================] - 0s 19ms/step - loss: 0.1268 - mse: 0.1268 - val_loss: 0.1250 - val_mse: 0.1250\n",
      "Epoch 146/200\n",
      "1/1 [==============================] - 0s 22ms/step - loss: 0.1354 - mse: 0.1354 - val_loss: 0.1236 - val_mse: 0.1236\n",
      "Epoch 147/200\n",
      "1/1 [==============================] - 0s 23ms/step - loss: 0.1282 - mse: 0.1282 - val_loss: 0.1179 - val_mse: 0.1179\n",
      "Epoch 148/200\n",
      "1/1 [==============================] - 0s 21ms/step - loss: 0.1353 - mse: 0.1353 - val_loss: 0.1152 - val_mse: 0.1152\n",
      "Epoch 149/200\n",
      "1/1 [==============================] - 0s 21ms/step - loss: 0.1266 - mse: 0.1266 - val_loss: 0.1150 - val_mse: 0.1150\n",
      "Epoch 150/200\n",
      "1/1 [==============================] - 0s 22ms/step - loss: 0.1417 - mse: 0.1417 - val_loss: 0.1181 - val_mse: 0.1181\n",
      "Epoch 151/200\n",
      "1/1 [==============================] - 0s 23ms/step - loss: 0.1269 - mse: 0.1269 - val_loss: 0.1247 - val_mse: 0.1247\n",
      "Epoch 152/200\n",
      "1/1 [==============================] - 0s 23ms/step - loss: 0.1403 - mse: 0.1403 - val_loss: 0.1297 - val_mse: 0.1297\n",
      "Epoch 153/200\n",
      "1/1 [==============================] - 0s 23ms/step - loss: 0.1209 - mse: 0.1209 - val_loss: 0.1239 - val_mse: 0.1239\n",
      "Epoch 154/200\n",
      "1/1 [==============================] - 0s 20ms/step - loss: 0.1380 - mse: 0.1380 - val_loss: 0.1179 - val_mse: 0.1179\n",
      "Epoch 155/200\n",
      "1/1 [==============================] - 0s 20ms/step - loss: 0.1345 - mse: 0.1345 - val_loss: 0.1140 - val_mse: 0.1140\n",
      "Epoch 156/200\n",
      "1/1 [==============================] - 0s 23ms/step - loss: 0.1328 - mse: 0.1328 - val_loss: 0.1129 - val_mse: 0.1129\n",
      "Epoch 157/200\n",
      "1/1 [==============================] - 0s 20ms/step - loss: 0.1193 - mse: 0.1193 - val_loss: 0.1129 - val_mse: 0.1129\n",
      "Epoch 158/200\n",
      "1/1 [==============================] - 0s 20ms/step - loss: 0.1253 - mse: 0.1253 - val_loss: 0.1149 - val_mse: 0.1149\n",
      "Epoch 159/200\n",
      "1/1 [==============================] - 0s 23ms/step - loss: 0.1272 - mse: 0.1272 - val_loss: 0.1215 - val_mse: 0.1215\n",
      "Epoch 160/200\n",
      "1/1 [==============================] - 0s 19ms/step - loss: 0.1234 - mse: 0.1234 - val_loss: 0.1255 - val_mse: 0.1255\n",
      "Epoch 161/200\n",
      "1/1 [==============================] - 0s 22ms/step - loss: 0.1346 - mse: 0.1346 - val_loss: 0.1211 - val_mse: 0.1211\n",
      "Epoch 162/200\n",
      "1/1 [==============================] - 0s 21ms/step - loss: 0.1255 - mse: 0.1255 - val_loss: 0.1156 - val_mse: 0.1156\n",
      "Epoch 163/200\n",
      "1/1 [==============================] - 0s 22ms/step - loss: 0.1257 - mse: 0.1257 - val_loss: 0.1123 - val_mse: 0.1123\n",
      "Epoch 164/200\n",
      "1/1 [==============================] - 0s 21ms/step - loss: 0.1370 - mse: 0.1370 - val_loss: 0.1134 - val_mse: 0.1134\n",
      "Epoch 165/200\n",
      "1/1 [==============================] - 0s 23ms/step - loss: 0.1287 - mse: 0.1287 - val_loss: 0.1168 - val_mse: 0.1168\n",
      "Epoch 166/200\n",
      "1/1 [==============================] - 0s 21ms/step - loss: 0.1309 - mse: 0.1309 - val_loss: 0.1228 - val_mse: 0.1228\n",
      "Epoch 167/200\n",
      "1/1 [==============================] - 0s 24ms/step - loss: 0.1237 - mse: 0.1237 - val_loss: 0.1258 - val_mse: 0.1258\n",
      "Epoch 168/200\n",
      "1/1 [==============================] - 0s 22ms/step - loss: 0.1385 - mse: 0.1385 - val_loss: 0.1218 - val_mse: 0.1218\n",
      "Epoch 169/200\n",
      "1/1 [==============================] - 0s 20ms/step - loss: 0.1260 - mse: 0.1260 - val_loss: 0.1163 - val_mse: 0.1163\n",
      "Epoch 170/200\n",
      "1/1 [==============================] - 0s 21ms/step - loss: 0.1379 - mse: 0.1379 - val_loss: 0.1141 - val_mse: 0.1141\n",
      "Epoch 171/200\n",
      "1/1 [==============================] - 0s 25ms/step - loss: 0.1199 - mse: 0.1199 - val_loss: 0.1167 - val_mse: 0.1167\n",
      "Epoch 172/200\n",
      "1/1 [==============================] - 0s 20ms/step - loss: 0.1252 - mse: 0.1252 - val_loss: 0.1231 - val_mse: 0.1231\n",
      "Epoch 173/200\n",
      "1/1 [==============================] - 0s 21ms/step - loss: 0.1386 - mse: 0.1386 - val_loss: 0.1251 - val_mse: 0.1251\n",
      "Epoch 174/200\n",
      "1/1 [==============================] - 0s 23ms/step - loss: 0.1199 - mse: 0.1199 - val_loss: 0.1206 - val_mse: 0.1206\n",
      "Epoch 175/200\n",
      "1/1 [==============================] - 0s 21ms/step - loss: 0.1376 - mse: 0.1376 - val_loss: 0.1155 - val_mse: 0.1155\n",
      "Epoch 176/200\n",
      "1/1 [==============================] - 0s 22ms/step - loss: 0.1253 - mse: 0.1253 - val_loss: 0.1129 - val_mse: 0.1129\n",
      "Epoch 177/200\n",
      "1/1 [==============================] - 0s 23ms/step - loss: 0.1196 - mse: 0.1196 - val_loss: 0.1122 - val_mse: 0.1122\n",
      "Epoch 178/200\n",
      "1/1 [==============================] - 0s 23ms/step - loss: 0.1154 - mse: 0.1154 - val_loss: 0.1144 - val_mse: 0.1144\n",
      "Epoch 179/200\n",
      "1/1 [==============================] - 0s 21ms/step - loss: 0.1306 - mse: 0.1306 - val_loss: 0.1190 - val_mse: 0.1190\n",
      "Epoch 180/200\n",
      "1/1 [==============================] - 0s 21ms/step - loss: 0.1216 - mse: 0.1216 - val_loss: 0.1210 - val_mse: 0.1210\n",
      "Epoch 181/200\n",
      "1/1 [==============================] - 0s 24ms/step - loss: 0.1380 - mse: 0.1380 - val_loss: 0.1154 - val_mse: 0.1154\n",
      "Epoch 182/200\n",
      "1/1 [==============================] - 0s 24ms/step - loss: 0.1278 - mse: 0.1278 - val_loss: 0.1105 - val_mse: 0.1105\n",
      "Epoch 183/200\n",
      "1/1 [==============================] - 0s 22ms/step - loss: 0.1274 - mse: 0.1274 - val_loss: 0.1098 - val_mse: 0.1098\n",
      "Epoch 184/200\n",
      "1/1 [==============================] - 0s 23ms/step - loss: 0.1154 - mse: 0.1154 - val_loss: 0.1101 - val_mse: 0.1101\n",
      "Epoch 185/200\n",
      "1/1 [==============================] - 0s 24ms/step - loss: 0.1249 - mse: 0.1249 - val_loss: 0.1136 - val_mse: 0.1136\n",
      "Epoch 186/200\n",
      "1/1 [==============================] - 0s 20ms/step - loss: 0.1136 - mse: 0.1136 - val_loss: 0.1178 - val_mse: 0.1178\n",
      "Epoch 187/200\n"
     ]
    },
    {
     "name": "stdout",
     "output_type": "stream",
     "text": [
      "1/1 [==============================] - 0s 25ms/step - loss: 0.1149 - mse: 0.1149 - val_loss: 0.1173 - val_mse: 0.1173\n",
      "Epoch 188/200\n",
      "1/1 [==============================] - 0s 25ms/step - loss: 0.1311 - mse: 0.1311 - val_loss: 0.1109 - val_mse: 0.1109\n",
      "Epoch 189/200\n",
      "1/1 [==============================] - 0s 24ms/step - loss: 0.1219 - mse: 0.1219 - val_loss: 0.1082 - val_mse: 0.1082\n",
      "Epoch 190/200\n",
      "1/1 [==============================] - 0s 22ms/step - loss: 0.1169 - mse: 0.1169 - val_loss: 0.1075 - val_mse: 0.1075\n",
      "Epoch 191/200\n",
      "1/1 [==============================] - 0s 19ms/step - loss: 0.1096 - mse: 0.1096 - val_loss: 0.1084 - val_mse: 0.1084\n",
      "Epoch 192/200\n",
      "1/1 [==============================] - 0s 20ms/step - loss: 0.1269 - mse: 0.1269 - val_loss: 0.1122 - val_mse: 0.1122\n",
      "Epoch 193/200\n",
      "1/1 [==============================] - 0s 19ms/step - loss: 0.1135 - mse: 0.1135 - val_loss: 0.1163 - val_mse: 0.1163\n",
      "Epoch 194/200\n",
      "1/1 [==============================] - 0s 18ms/step - loss: 0.1215 - mse: 0.1215 - val_loss: 0.1178 - val_mse: 0.1178\n",
      "Epoch 195/200\n",
      "1/1 [==============================] - 0s 21ms/step - loss: 0.1151 - mse: 0.1151 - val_loss: 0.1147 - val_mse: 0.1147\n",
      "Epoch 196/200\n",
      "1/1 [==============================] - 0s 21ms/step - loss: 0.1103 - mse: 0.1103 - val_loss: 0.1133 - val_mse: 0.1133\n",
      "Epoch 197/200\n",
      "1/1 [==============================] - 0s 21ms/step - loss: 0.1384 - mse: 0.1384 - val_loss: 0.1141 - val_mse: 0.1141\n",
      "Epoch 198/200\n",
      "1/1 [==============================] - 0s 20ms/step - loss: 0.1108 - mse: 0.1108 - val_loss: 0.1139 - val_mse: 0.1139\n",
      "Epoch 199/200\n",
      "1/1 [==============================] - 0s 20ms/step - loss: 0.1155 - mse: 0.1155 - val_loss: 0.1136 - val_mse: 0.1136\n",
      "Epoch 200/200\n",
      "1/1 [==============================] - 0s 20ms/step - loss: 0.1171 - mse: 0.1171 - val_loss: 0.1114 - val_mse: 0.1114\n"
     ]
    }
   ],
   "source": [
    "# compile and train NN\n",
    "# Uwaga: dla regresji używamy: loss = 'mean_squared_error'   oraz metrics = ['mse']\n",
    "\n",
    "history = model0.fit(XX_train_n,yy_train_n, epochs=200, batch_size=512, validation_data=(XX_test_n, yy_test_n))"
   ]
  },
  {
   "cell_type": "markdown",
   "metadata": {
    "id": "0l8g2s4Ogwt7"
   },
   "source": [
    "Plot loss"
   ]
  },
  {
   "cell_type": "code",
   "execution_count": 9,
   "metadata": {
    "id": "ksInevx1gt33"
   },
   "outputs": [
    {
     "data": {
      "image/png": "[encoded data removed]",
      "text/plain": [
       "<Figure size 432x288 with 1 Axes>"
      ]
     },
     "metadata": {
      "needs_background": "light"
     },
     "output_type": "display_data"
    }
   ],
   "source": [
    "def plot_loss(history):\n",
    "  plt.plot(history.history['loss'], label='loss')\n",
    "  plt.plot(history.history['val_loss'], label='val_loss')\n",
    "  plt.ylim([0, 0.2])\n",
    "  plt.xlabel('Epoch')\n",
    "  plt.ylabel('Error ')\n",
    "  plt.legend()\n",
    "  plt.grid(True)\n",
    "\n",
    "plot_loss(history)\n"
   ]
  },
  {
   "cell_type": "markdown",
   "metadata": {
    "id": "UhWj-M9sWa1A"
   },
   "source": [
    "Evaluate neural network"
   ]
  },
  {
   "cell_type": "code",
   "execution_count": 10,
   "metadata": {
    "id": "wAGobBA6XfTt"
   },
   "outputs": [
    {
     "name": "stdout",
     "output_type": "stream",
     "text": [
      "4/4 [==============================] - 0s 2ms/step - loss: 0.1114 - mse: 0.1114\n",
      "loss test data:  0.11135406047105789\n",
      "mse test data:  0.11135406047105789\n",
      "4/4 [==============================] - 0s 2ms/step - loss: 0.1076 - mse: 0.1076\n",
      "loss train data:  0.10758721083402634\n",
      "mse train data:  0.10758721083402634\n"
     ]
    }
   ],
   "source": [
    "results = model0.evaluate(XX_test_n, yy_test_n)\n",
    "\n",
    "print('loss test data: ', results[0])\n",
    "print('mse test data: ', results[1])\n",
    "\n",
    "results = model0.evaluate(XX_train_n, yy_train_n)\n",
    "\n",
    "print('loss train data: ', results[0])\n",
    "print('mse train data: ', results[1])"
   ]
  },
  {
   "cell_type": "markdown",
   "metadata": {
    "id": "8qv-t09rWgT8"
   },
   "source": [
    "Plot results"
   ]
  },
  {
   "cell_type": "code",
   "execution_count": 13,
   "metadata": {
    "id": "JwHkHPnzvD_z"
   },
   "outputs": [
    {
     "data": {
      "text/plain": [
       "<function matplotlib.pyplot.show(*args, **kw)>"
      ]
     },
     "execution_count": 13,
     "metadata": {},
     "output_type": "execute_result"
    },
    {
     "data": {
      "image/png": "[encoded data removed]",
      "text/plain": [
       "<Figure size 504x504 with 1 Axes>"
      ]
     },
     "metadata": {
      "needs_background": "light"
     },
     "output_type": "display_data"
    }
   ],
   "source": [
    "fig = plt.figure(figsize=(7,7))\n",
    "\n",
    "plt.plot(XX_train_n,yy_train_n, 'o', color='blue', label='Training points')\n",
    "plt.plot(XX_test_n,yy_test_n, 'o', color='green', label='Testing points')\n",
    "\n",
    "points = np.linspace(min(XX_test_n), max(XX_test_n),num=100)\n",
    "plt.plot(points, (funct(points*std+mean)-mean)/std1,  color='red', label='Function')\n",
    "\n",
    "plt.plot(points, model0.predict(points),  color='orange', label='Neural net')\n",
    "\n",
    "\n",
    "plt.legend()\n",
    "\n",
    "\n",
    "plt.show"
   ]
  },
  {
   "cell_type": "markdown",
   "metadata": {
    "id": "xnwcHVfaHJif"
   },
   "source": [
    "**The Boston Housing Price dataset**\n",
    "\n",
    "We will be attempting to predict the median price of homes in a given Boston suburb in the mid-1970s, given a few data points about the suburb at the time, such as the crime rate, the local property tax rate, etc.\n",
    "\n",
    "The dataset has very few data points, only 506 in total, split between 404 training samples and 102 test samples, and each \"feature\" in the input data (e.g. the crime rate is a feature) has a different scale. For instance some values are proportions, which take a values between 0 and 1, others take values between 1 and 12, others between 0 and 100..."
   ]
  },
  {
   "cell_type": "code",
   "execution_count": 14,
   "metadata": {
    "id": "__lqdBmD9cgL"
   },
   "outputs": [],
   "source": [
    "from keras.datasets import boston_housing\n",
    "\n",
    "(X_train, y_train), (X_test, y_test) = boston_housing.load_data()\n"
   ]
  },
  {
   "cell_type": "markdown",
   "metadata": {
    "id": "ZDCcGuFW9RP6"
   },
   "source": [
    "\n",
    "**Preparing the data**\n",
    "\n",
    "It would be problematic to feed into a neural network values that all take wildly different ranges. The network might be able to automatically adapt to such heterogeneous data, but it would definitely make learning more difficult. A widespread best practice to deal with such data is to do feature-wise normalization: for each feature in the input data (a column in the input data matrix), we will subtract the mean of the feature and divide by the standard deviation, so that the feature will be centered around 0 and will have a unit standard deviation. This is easily done in Numpy:\n"
   ]
  },
  {
   "cell_type": "markdown",
   "metadata": {
    "id": "78oNgkuWE6vb"
   },
   "source": [
    "Define, compile and train neural network"
   ]
  },
  {
   "cell_type": "code",
   "execution_count": 15,
   "metadata": {
    "id": "Uuj5f4Mg6e5y"
   },
   "outputs": [],
   "source": [
    "\n",
    "model = Sequential()"
   ]
  },
  {
   "cell_type": "code",
   "execution_count": 16,
   "metadata": {
    "id": "86NDw6Qm91dC"
   },
   "outputs": [
    {
     "data": {
      "image/png": "[encoded data removed]",
      "text/plain": [
       "<Figure size 432x288 with 1 Axes>"
      ]
     },
     "metadata": {
      "needs_background": "light"
     },
     "output_type": "display_data"
    }
   ],
   "source": [
    "def plot_loss(history):\n",
    "  plt.plot(history.history['loss'], label='loss')\n",
    "  plt.plot(history.history['val_loss'], label='val_loss')\n",
    "  plt.ylim([0, 0.5])\n",
    "  plt.xlabel('Epoch')\n",
    "  plt.ylabel('Error [MPG]')\n",
    "  plt.legend()\n",
    "  plt.grid(True)\n",
    "\n",
    "plot_loss(history)\n"
   ]
  },
  {
   "cell_type": "markdown",
   "metadata": {
    "id": "E2enpb6gFGte"
   },
   "source": [
    "Evaluate neural network"
   ]
  },
  {
   "cell_type": "code",
   "execution_count": 20,
   "metadata": {},
   "outputs": [
    {
     "name": "stdout",
     "output_type": "stream",
     "text": [
      "4/4 [==============================] - 0s 2ms/step - loss: 0.1114 - mse: 0.1114\n",
      "loss test data:  0.11135406047105789\n",
      "mse test data:  0.11135406047105789\n",
      "4/4 [==============================] - 0s 2ms/step - loss: 0.1076 - mse: 0.1076\n",
      "loss train data:  0.10758721083402634\n",
      "mse train data:  0.10758721083402634\n"
     ]
    }
   ],
   "source": [
    "\n",
    "\n",
    "results = model0.evaluate(XX_test_n, yy_test_n)\n",
    "\n",
    "print('loss test data: ', results[0])\n",
    "print('mse test data: ', results[1])\n",
    "\n",
    "results = model0.evaluate(XX_train_n, yy_train_n)\n",
    "\n",
    "print('loss train data: ', results[0])\n",
    "print('mse train data: ', results[1])\n",
    "\n"
   ]
  },
  {
   "cell_type": "code",
   "execution_count": null,
   "metadata": {},
   "outputs": [],
   "source": []
  }
 ],
 "metadata": {
  "accelerator": "GPU",
  "colab": {
   "authorship_tag": "ABX9TyM1wlvyJSGjE8OoIliEdl+D",
   "collapsed_sections": [],
   "include_colab_link": true,
   "name": "cwiczenia_3a_regresja.ipynb",
   "provenance": []
  },
  "kernelspec": {
   "display_name": "Python 3",
   "language": "python",
   "name": "python3"
  },
  "language_info": {
   "codemirror_mode": {
    "name": "ipython",
    "version": 3
   },
   "file_extension": ".py",
   "mimetype": "text/x-python",
   "name": "python",
   "nbconvert_exporter": "python",
   "pygments_lexer": "ipython3",
   "version": "3.7.6"
  }
 },
 "nbformat": 4,
 "nbformat_minor": 1
}
