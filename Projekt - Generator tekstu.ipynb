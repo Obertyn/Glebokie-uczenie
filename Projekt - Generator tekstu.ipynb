{
 "cells": [
  {
   "cell_type": "markdown",
   "metadata": {},
   "source": [
    "# Generator tekstu - Mateusz Sikora, Michał Sienkiewicz"
   ]
  },
  {
   "cell_type": "markdown",
   "metadata": {},
   "source": [
    "źródła:\n",
    "\n",
    "https://github.com/fchollet/deep-learning-with-python-notebooks/blob/master/8.1-text-generation-with-lstm.ipynb\n",
    "\n",
    "https://medium.com/towards-artificial-intelligence/word-level-text-generation-dd61a5a0313d"
   ]
  },
  {
   "cell_type": "code",
   "execution_count": 1,
   "metadata": {},
   "outputs": [
    {
     "name": "stdout",
     "output_type": "stream",
     "text": [
      "2.3.1\n"
     ]
    }
   ],
   "source": [
    "import tensorflow as tf\n",
    "print(tf.__version__)"
   ]
  },
  {
   "cell_type": "code",
   "execution_count": 2,
   "metadata": {},
   "outputs": [],
   "source": [
    "from tensorflow.keras.preprocessing.sequence import pad_sequences\n",
    "from tensorflow.keras.layers import Embedding, LSTM, Dense, Dropout, Bidirectional\n",
    "from tensorflow.keras.preprocessing.text import Tokenizer\n",
    "from tensorflow.keras.models import Sequential\n",
    "from tensorflow.keras.optimizers import Adam\n",
    "from tensorflow.keras import regularizers\n",
    "import tensorflow.keras.utils as ku \n",
    "import numpy as np "
   ]
  },
  {
   "cell_type": "code",
   "execution_count": 3,
   "metadata": {},
   "outputs": [],
   "source": [
    "data = open('./data/wiersze/Tadeusz.txt', encoding=\"utf8\").read()\n",
    "\n",
    "corpus = data.lower().split(\"\\n\")"
   ]
  },
  {
   "cell_type": "code",
   "execution_count": 4,
   "metadata": {},
   "outputs": [],
   "source": [
    "#Program stosuje tzw tokenizacje, czyli proces polegający na podziale całego tekstu na ciąg pojedynczych tokenów\n",
    "#tokeny to ciągi znaków, ograniczone ustalonymi separatorami takimi jak spacje lub przecinki\n",
    "\n",
    "tokenizer = Tokenizer()\n",
    "\n",
    "tokenizer.fit_on_texts(corpus)\n",
    "total_words = len(tokenizer.word_index) + 1"
   ]
  },
  {
   "cell_type": "code",
   "execution_count": 5,
   "metadata": {},
   "outputs": [],
   "source": [
    "# za pomocą tokenów tworzymy sekwencje wejściowe (ciągi wyrazów)\n",
    "input_sequences = []\n",
    "for line in corpus:\n",
    "    token_list = tokenizer.texts_to_sequences([line])[0]\n",
    "    for i in range(1, len(token_list)):\n",
    "        n_gram_sequence = token_list[:i+1]\n",
    "        input_sequences.append(n_gram_sequence)\n",
    "\n",
    "\n",
    "# pad sequences \n",
    "max_sequence_len = max([len(x) for x in input_sequences])\n",
    "input_sequences = np.array(pad_sequences(input_sequences, maxlen=max_sequence_len, padding='pre'))\n",
    "\n",
    "# create predictors and label\n",
    "predictors, label = input_sequences[:,:-1],input_sequences[:,-1]\n",
    "\n",
    "label = ku.to_categorical(label, num_classes=total_words)"
   ]
  },
  {
   "cell_type": "code",
   "execution_count": 6,
   "metadata": {},
   "outputs": [
    {
     "name": "stdout",
     "output_type": "stream",
     "text": [
      "Model: \"sequential\"\n",
      "_________________________________________________________________\n",
      "Layer (type)                 Output Shape              Param #   \n",
      "=================================================================\n",
      "embedding (Embedding)        (None, 11, 100)           274500    \n",
      "_________________________________________________________________\n",
      "bidirectional (Bidirectional (None, 1024)              2510848   \n",
      "_________________________________________________________________\n",
      "dropout (Dropout)            (None, 1024)              0         \n",
      "_________________________________________________________________\n",
      "dense (Dense)                (None, 2745)              2813625   \n",
      "=================================================================\n",
      "Total params: 5,598,973\n",
      "Trainable params: 5,598,973\n",
      "Non-trainable params: 0\n",
      "_________________________________________________________________\n",
      "None\n"
     ]
    }
   ],
   "source": [
    "#stworzenie sekwencyjnego modelu warstw, który będzie reprezontował sieć neuronową\n",
    "model = Sequential()\n",
    "model.add(Embedding(total_words, 100, input_length=max_sequence_len-1))\n",
    "model.add(Bidirectional(LSTM(512)))\n",
    "model.add(Dropout(0.3))\n",
    "model.add(Dense(total_words, activation='softmax'))\n",
    "model.compile(loss='categorical_crossentropy', optimizer='adam', metrics=['accuracy'])\n",
    "print(model.summary())"
   ]
  },
  {
   "cell_type": "code",
   "execution_count": 7,
   "metadata": {
    "scrolled": true
   },
   "outputs": [
    {
     "name": "stdout",
     "output_type": "stream",
     "text": [
      "Epoch 1/30\n",
      "143/143 - 22s - loss: 7.6058 - accuracy: 0.0268\n",
      "Epoch 2/30\n",
      "143/143 - 22s - loss: 7.1823 - accuracy: 0.0268\n",
      "Epoch 3/30\n",
      "143/143 - 21s - loss: 6.9797 - accuracy: 0.0283\n",
      "Epoch 4/30\n",
      "143/143 - 21s - loss: 6.7399 - accuracy: 0.0259\n",
      "Epoch 5/30\n",
      "143/143 - 21s - loss: 6.4459 - accuracy: 0.0334\n",
      "Epoch 6/30\n",
      "143/143 - 22s - loss: 6.0767 - accuracy: 0.0398\n",
      "Epoch 7/30\n",
      "143/143 - 22s - loss: 5.6195 - accuracy: 0.0508\n",
      "Epoch 8/30\n",
      "143/143 - 21s - loss: 5.0213 - accuracy: 0.0681\n",
      "Epoch 9/30\n",
      "143/143 - 21s - loss: 4.3399 - accuracy: 0.1206\n",
      "Epoch 10/30\n",
      "143/143 - 20s - loss: 3.5438 - accuracy: 0.2065\n",
      "Epoch 11/30\n",
      "143/143 - 20s - loss: 2.7991 - accuracy: 0.3553\n",
      "Epoch 12/30\n",
      "143/143 - 20s - loss: 2.1236 - accuracy: 0.5188\n",
      "Epoch 13/30\n",
      "143/143 - 20s - loss: 1.6421 - accuracy: 0.6126\n",
      "Epoch 14/30\n",
      "143/143 - 20s - loss: 1.2985 - accuracy: 0.6961\n",
      "Epoch 15/30\n",
      "143/143 - 21s - loss: 1.0373 - accuracy: 0.7596\n",
      "Epoch 16/30\n",
      "143/143 - 23s - loss: 0.8662 - accuracy: 0.8027\n",
      "Epoch 17/30\n",
      "143/143 - 21s - loss: 0.7743 - accuracy: 0.8145\n",
      "Epoch 18/30\n",
      "143/143 - 20s - loss: 0.6809 - accuracy: 0.8409\n",
      "Epoch 19/30\n",
      "143/143 - 21s - loss: 0.6037 - accuracy: 0.8607\n",
      "Epoch 20/30\n",
      "143/143 - 21s - loss: 0.5586 - accuracy: 0.8677\n",
      "Epoch 21/30\n",
      "143/143 - 21s - loss: 0.5046 - accuracy: 0.8829\n",
      "Epoch 22/30\n",
      "143/143 - 22s - loss: 0.4796 - accuracy: 0.8886\n",
      "Epoch 23/30\n",
      "143/143 - 21s - loss: 0.4530 - accuracy: 0.8908\n",
      "Epoch 24/30\n",
      "143/143 - 21s - loss: 0.4327 - accuracy: 0.8952\n",
      "Epoch 25/30\n",
      "143/143 - 22s - loss: 0.4272 - accuracy: 0.8941\n",
      "Epoch 26/30\n",
      "143/143 - 21s - loss: 0.4210 - accuracy: 0.8974\n",
      "Epoch 27/30\n",
      "143/143 - 23s - loss: 0.4194 - accuracy: 0.8974\n",
      "Epoch 28/30\n",
      "143/143 - 21s - loss: 0.4194 - accuracy: 0.8912\n",
      "Epoch 29/30\n",
      "143/143 - 21s - loss: 0.4033 - accuracy: 0.8980\n",
      "Epoch 30/30\n",
      "143/143 - 21s - loss: 0.4019 - accuracy: 0.8965\n"
     ]
    }
   ],
   "source": [
    "#nasz program jest w trakcie nauki:\n",
    "history = model.fit(predictors, label, epochs=30, verbose=2)"
   ]
  },
  {
   "cell_type": "code",
   "execution_count": 8,
   "metadata": {},
   "outputs": [
    {
     "data": {
      "image/png": "[encoded data removed]",
      "text/plain": [
       "<Figure size 432x288 with 1 Axes>"
      ]
     },
     "metadata": {
      "needs_background": "light"
     },
     "output_type": "display_data"
    },
    {
     "data": {
      "image/png": "[encoded data removed]",
      "text/plain": [
       "<Figure size 432x288 with 1 Axes>"
      ]
     },
     "metadata": {
      "needs_background": "light"
     },
     "output_type": "display_data"
    }
   ],
   "source": [
    "%matplotlib inline\n",
    "\n",
    "import matplotlib.pyplot as plt\n",
    "\n",
    "acc = history.history['accuracy']\n",
    "loss = history.history['loss']\n",
    "\n",
    "# Get the number of epochs\n",
    "epochs = range(len(acc))\n",
    "\n",
    "# Plot accuracy per epoch (wykres dokładności)\n",
    "plt.plot(epochs, acc, 'b', label='Training accuracy')\n",
    "plt.xlabel(\"Epochs\")\n",
    "plt.ylabel(\"Accuracy\")\n",
    "plt.title('Training accuracy')\n",
    "\n",
    "plt.figure()\n",
    "\n",
    "# Plot loss per epoch (wykres straty)\n",
    "plt.plot(epochs, loss, 'b', label='Training Loss')\n",
    "plt.xlabel(\"Epochs\")\n",
    "plt.ylabel(\"Loss\")\n",
    "plt.title('Training loss')\n",
    "\n",
    "plt.show()"
   ]
  },
  {
   "cell_type": "code",
   "execution_count": 9,
   "metadata": {},
   "outputs": [
    {
     "name": "stdout",
     "output_type": "stream",
     "text": [
      "WARNING:tensorflow:From <ipython-input-9-efe4a07d6014>:7: Sequential.predict_classes (from tensorflow.python.keras.engine.sequential) is deprecated and will be removed after 2021-01-01.\n",
      "Instructions for updating:\n",
      "Please use instead:* `np.argmax(model.predict(x), axis=-1)`,   if your model does multi-class classification   (e.g. if it uses a `softmax` last-layer activation).* `(model.predict(x) > 0.5).astype(\"int32\")`,   if your model does binary classification   (e.g. if it uses a `sigmoid` last-layer activation).\n"
     ]
    }
   ],
   "source": [
    "seed_text = \"Samotność cóż po ludziach, czym śpiewak dla ludzi? Gdzie człowiek, co z mej pieśni całą myśl wysłucha, Obejmie okiem wszystkie promienie jej ducha? Nieszczęsny, kto dla ludzi głos i język trudzi: Język kłamie głosowi, a głos myślom kłamie; Myśl z duszy leci bystro, nim się w słowach złamie, A słowa myśl pochłoną i tak drżą nad myślą, Jak ziemia nad połkniętą, niewidzialną rzeką. Z drżenia ziemi czyż ludzie głąb nurtów dociek,\"\n",
    "next_words = 150\n",
    "  \n",
    "for _ in range(next_words):\n",
    "    token_list = tokenizer.texts_to_sequences([seed_text])[0]\n",
    "    token_list = pad_sequences([token_list], maxlen=max_sequence_len-1, padding='pre')\n",
    "    predicted = model.predict_classes(token_list, verbose=0)\n",
    "    output_word = \"\"\n",
    "    for word, index in tokenizer.word_index.items():\n",
    "        if index == predicted:\n",
    "            output_word = word\n",
    "            break\n",
    "    seed_text += \" \" + output_word"
   ]
  },
  {
   "cell_type": "code",
   "execution_count": 10,
   "metadata": {
    "scrolled": true
   },
   "outputs": [
    {
     "name": "stdout",
     "output_type": "stream",
     "text": [
      "Samotność cóż po ludziach, czym śpiewak dla ludzi? Gdzie człowiek, co z mej pieśni całą myśl wysłucha, Obejmie okiem wszystkie promienie jej ducha? Nieszczęsny, kto dla ludzi głos i język trudzi: Język kłamie głosowi, a głos myślom kłamie; Myśl z duszy leci bystro, nim się w słowach złamie, A słowa myśl pochłoną i tak drżą nad myślą, Jak ziemia nad połkniętą, niewidzialną rzeką. Z drżenia ziemi czyż ludzie głąb nurtów dociek, go dowie krajów krajów kroczy kroczy krajów krajów podzielić po szubie stołu i światem mędrsi proszeni bliźnięta kroczy na francuza poufali czwartą do dworu krajów krajów do szacie francuza krajów krajów dowie krajów krajów suwarów w słowa słowa oczyma odmiana faworyty się sądzie młodzieniec go powitać krajów robić krajów krajów suwarów w słowa prawo mniej rządzie odmiana gładząc mglisty mglisty postąpił postąpił krajów mój kusy rejtan swobody gorszą — mój łona opiekę ostrzem czwartą do łona krajów przestraszone pod jezior dworu całej dowie po francuza krajów krajów robić robić krajów pilni podzielić należy — sądzie krajów raną ochłonął na kształt ogrodowych baczności pijem wzdłuż i suwarów w słowa francuza francuza krajów krajów mglisty mglisty mglisty jasnozłoty po francuza poufali krajów krajów wtłoczyć mglisty suwarów w słowa słowa oczyma odmiana możemy na szubie poglądał już mglisty do marszu gmachu krajów pytań robić robić mniej świadki odmiana kroczy na francuza krajów co\n"
     ]
    }
   ],
   "source": [
    "print(seed_text)"
   ]
  },
  {
   "cell_type": "code",
   "execution_count": 11,
   "metadata": {},
   "outputs": [],
   "source": [
    "#dodanie do programu czynności usuwania powtórzeń\n",
    "seed_text = \"Samotność cóż po ludziach, czym śpiewak dla ludzi? Gdzie człowiek, co z mej pieśni całą myśl wysłucha, Obejmie okiem wszystkie promienie jej ducha? Nieszczęsny, kto dla ludzi głos i język trudzi: Język kłamie głosowi, a głos myślom kłamie; Myśl z duszy leci bystro, nim się w słowach złamie, A słowa myśl pochłoną i tak drżą nad myślą, Jak ziemia nad połkniętą, niewidzialną rzeką. Z drżenia ziemi czyż ludzie głąb nurtów dociek,\"\n",
    "next_words = 300\n",
    "lll = \"Samotność cóż po ludziach, czym śpiewak dla ludzi? Gdzie człowiek, co z mej pieśni całą myśl wysłucha, Obejmie okiem wszystkie promienie jej ducha? Nieszczęsny, kto dla ludzi głos i język trudzi: Język kłamie głosowi, a głos myślom kłamie; Myśl z duszy leci bystro, nim się w słowach złamie, A słowa myśl pochłoną i tak drżą nad myślą, Jak ziemia nad połkniętą, niewidzialną rzeką. Z drżenia ziemi czyż ludzie głąb nurtów dociek,\"\n",
    "gg=0\n",
    " \n",
    "for _ in range(next_words):\n",
    "    token_list = tokenizer.texts_to_sequences([seed_text])[0]\n",
    "    token_list = pad_sequences([token_list], maxlen=max_sequence_len-1, padding='pre')\n",
    "    predicted = model.predict_classes(token_list, verbose=0)\n",
    "    output_word = \"\"\n",
    "    for word, index in tokenizer.word_index.items():\n",
    "        if index == predicted:\n",
    "            output_word = word\n",
    "            break\n",
    "    seed_text += \" \" + output_word\n",
    "    if (gg==output_word):\n",
    "        x=0\n",
    "    else:\n",
    "        lll += \" \" + output_word\n",
    "    gg=output_word"
   ]
  },
  {
   "cell_type": "code",
   "execution_count": 12,
   "metadata": {},
   "outputs": [
    {
     "name": "stdout",
     "output_type": "stream",
     "text": [
      "Samotność cóż po ludziach, czym śpiewak dla ludzi? Gdzie człowiek, co z mej pieśni całą myśl wysłucha, Obejmie okiem wszystkie promienie jej ducha? Nieszczęsny, kto dla ludzi głos i język trudzi: Język kłamie głosowi, a głos myślom kłamie; Myśl z duszy leci bystro, nim się w słowach złamie, A słowa myśl pochłoną i tak drżą nad myślą, Jak ziemia nad połkniętą, niewidzialną rzeką. Z drżenia ziemi czyż ludzie głąb nurtów dociek, go dowie krajów kroczy krajów podzielić po szubie stołu i światem mędrsi proszeni bliźnięta kroczy na francuza poufali czwartą do dworu krajów do szacie francuza krajów dowie krajów suwarów w słowa oczyma odmiana faworyty się sądzie młodzieniec go powitać krajów robić krajów suwarów w słowa prawo mniej rządzie odmiana gładząc mglisty postąpił krajów mój kusy rejtan swobody gorszą — mój łona opiekę ostrzem czwartą do łona krajów przestraszone pod jezior dworu całej dowie po francuza krajów robić krajów pilni podzielić należy — sądzie krajów raną ochłonął na kształt ogrodowych baczności pijem wzdłuż i suwarów w słowa francuza krajów mglisty jasnozłoty po francuza poufali krajów wtłoczyć mglisty suwarów w słowa oczyma odmiana możemy na szubie poglądał już mglisty do marszu gmachu krajów pytań robić mniej świadki odmiana kroczy na francuza krajów co zacz o dwa trzyma mowy ostrzem robić do mieście pytania czwartą kroczy rumieniec oblekły odmiana mglisty po francuza krajów razem francusku krajów pilni się ozdobie dowie kroczy dowie na kształt ogrodowych śmieszyć wojewody dziewic wchodzi obszerności kroczy zwykła z której psów «mój sędzio że krajów ubranie się wszystkim krajów rodzi na trzyma pytania czwartą dowie na francuza kształt śniegu runa krajów suwarów w pole jest smugów zabierać nagle głośno po młody sądzie śmieszyć krajów zabawki robić na francuza krajów dowie krajów wtłoczyć mglisty na francuza krajów wtłoczyć robić suwarów w francusku pudermanie ozdobie krajów gorszą od nogajów tobie odgadywał gorszą zdrowie mglisty rodzi się zacietrzewiony odmiana młodzieniec do dziwo śmieszyć lub papugą odmiana wzdłuż i głos zabierać wycięty czwartą po francuza krajów pustym po francusku niewola sądzie odmiana krajów mglisty po szubie krajów\n"
     ]
    }
   ],
   "source": [
    "print(lll)"
   ]
  },
  {
   "cell_type": "code",
   "execution_count": 13,
   "metadata": {},
   "outputs": [],
   "source": [
    "#dodanie do programu czynności dodawania nowych zdań\n",
    "seed_text = \"Samotność cóż po ludziach, czym śpiewak dla ludzi? Gdzie człowiek, co z mej pieśni całą myśl wysłucha, Obejmie okiem wszystkie promienie jej ducha? Nieszczęsny, kto dla ludzi głos i język trudzi: Język kłamie głosowi, a głos myślom kłamie; Myśl z duszy leci bystro, nim się w słowach złamie, A słowa myśl pochłoną i tak drżą nad myślą, Jak ziemia nad połkniętą, niewidzialną rzeką. Z drżenia ziemi czyż ludzie głąb nurtów dociek,\"\n",
    "next_words = 150\n",
    "  \n",
    "for _ in range(next_words):\n",
    "    token_list = tokenizer.texts_to_sequences([seed_text])[0]\n",
    "    token_list = pad_sequences([token_list], maxlen=max_sequence_len-1, padding='pre')\n",
    "    predicted = model.predict_classes(token_list, verbose=0)\n",
    "    output_word = \"\"\n",
    "    for word, index in tokenizer.word_index.items():\n",
    "        if index == predicted:\n",
    "            output_word = word\n",
    "            break\n",
    "    seed_text += \" \" + output_word\n",
    "    if len(seed_text) % 15 == 0 :\n",
    "        seed_text+= '\\n'"
   ]
  },
  {
   "cell_type": "code",
   "execution_count": 14,
   "metadata": {},
   "outputs": [
    {
     "name": "stdout",
     "output_type": "stream",
     "text": [
      "Samotność cóż po ludziach, czym śpiewak dla ludzi? Gdzie człowiek, co z mej pieśni całą myśl wysłucha, Obejmie okiem wszystkie promienie jej ducha? Nieszczęsny, kto dla ludzi głos i język trudzi: Język kłamie głosowi, a głos myślom kłamie; Myśl z duszy leci bystro, nim się w słowach złamie, A słowa myśl pochłoną i tak drżą nad myślą, Jak ziemia nad połkniętą, niewidzialną rzeką. Z drżenia ziemi czyż ludzie głąb nurtów dociek, go dowie krajów krajów kroczy kroczy krajów krajów\n",
      " podzielić po szubie stołu i światem mędrsi proszeni bliźnięta kroczy na francuza poufali\n",
      " czwartą do dworu krajów krajów do szacie francuza krajów krajów dowie krajów krajów suwarów w słowa słowa oczyma odmiana faworyty się\n",
      " sądzie młodzieniec go powitać krajów robić krajów krajów suwarów w słowa prawo mniej rządzie odmiana gładząc mglisty mglisty postąpił\n",
      " postąpił krajów mój kusy rejtan swobody gorszą — mój łona opiekę ostrzem czwartą do łona\n",
      " krajów przestraszone pod jezior dworu całej\n",
      " dowie po francuza krajów krajów robić robić\n",
      " krajów pilni podzielić należy — sądzie krajów raną ochłonął na kształt ogrodowych baczności pijem wzdłuż i suwarów w słowa francuza francuza krajów krajów mglisty mglisty mglisty\n",
      " jasnozłoty po\n",
      " francuza poufali krajów krajów wtłoczyć mglisty suwarów w słowa słowa oczyma odmiana możemy na szubie poglądał już mglisty do marszu gmachu krajów pytań robić robić mniej świadki\n",
      " odmiana kroczy na francuza krajów co\n"
     ]
    }
   ],
   "source": [
    "print(seed_text)"
   ]
  },
  {
   "cell_type": "code",
   "execution_count": 15,
   "metadata": {},
   "outputs": [],
   "source": [
    "#połączenie ze sobą dwóch ostatnio dodanych opcji w jedną całość\n",
    "seed_text = \"Samotność cóż po ludziach, czym śpiewak dla ludzi? Gdzie człowiek, co z mej pieśni całą myśl wysłucha, Obejmie okiem wszystkie promienie jej ducha? Nieszczęsny, kto dla ludzi głos i język trudzi: Język kłamie głosowi, a głos myślom kłamie; Myśl z duszy leci bystro, nim się w słowach złamie, A słowa myśl pochłoną i tak drżą nad myślą, Jak ziemia nad połkniętą, niewidzialną rzeką. Z drżenia ziemi czyż ludzie głąb nurtów dociek,\"\n",
    "next_words = 300\n",
    "lll = \"Samotność cóż po ludziach, czym śpiewak dla ludzi? Gdzie człowiek, co z mej pieśni całą myśl wysłucha, Obejmie okiem wszystkie promienie jej ducha? Nieszczęsny, kto dla ludzi głos i język trudzi: Język kłamie głosowi, a głos myślom kłamie; Myśl z duszy leci bystro, nim się w słowach złamie, A słowa myśl pochłoną i tak drżą nad myślą, Jak ziemia nad połkniętą, niewidzialną rzeką. Z drżenia ziemi czyż ludzie głąb nurtów dociek,\"\n",
    "gg=0\n",
    " \n",
    "for _ in range(next_words):\n",
    "    token_list = tokenizer.texts_to_sequences([seed_text])[0]\n",
    "    token_list = pad_sequences([token_list], maxlen=max_sequence_len-1, padding='pre')\n",
    "    predicted = model.predict_classes(token_list, verbose=0)\n",
    "    output_word = \"\"\n",
    "    for word, index in tokenizer.word_index.items():\n",
    "        if index == predicted:\n",
    "            output_word = word\n",
    "            break\n",
    "    seed_text += \" \" + output_word\n",
    "    if (gg==output_word):\n",
    "        x=0\n",
    "    else:\n",
    "        lll += \" \" + output_word\n",
    "    gg=output_word\n",
    "    if len(seed_text) % 15 == 0 :\n",
    "        lll+= '\\n'"
   ]
  },
  {
   "cell_type": "code",
   "execution_count": 16,
   "metadata": {},
   "outputs": [
    {
     "name": "stdout",
     "output_type": "stream",
     "text": [
      "Samotność cóż po ludziach, czym śpiewak dla ludzi? Gdzie człowiek, co z mej pieśni całą myśl wysłucha, Obejmie okiem wszystkie promienie jej ducha? Nieszczęsny, kto dla ludzi głos i język trudzi: Język kłamie głosowi, a głos myślom kłamie; Myśl z duszy leci bystro, nim się w słowach złamie, A słowa myśl pochłoną i tak drżą nad myślą, Jak ziemia nad połkniętą, niewidzialną rzeką. Z drżenia ziemi czyż ludzie głąb nurtów dociek, go dowie krajów kroczy krajów\n",
      " podzielić po szubie stołu i światem mędrsi proszeni bliźnięta kroczy na francuza poufali czwartą do dworu krajów\n",
      " do szacie francuza krajów dowie krajów suwarów w słowa\n",
      " oczyma odmiana\n",
      " faworyty się sądzie młodzieniec go powitać krajów robić krajów suwarów w słowa prawo mniej rządzie odmiana gładząc mglisty postąpił krajów mój kusy rejtan swobody gorszą — mój łona opiekę ostrzem czwartą do łona krajów przestraszone pod jezior dworu całej dowie po francuza krajów robić krajów pilni podzielić należy — sądzie krajów raną\n",
      " ochłonął na kształt ogrodowych baczności pijem wzdłuż i suwarów w słowa francuza\n",
      " krajów mglisty\n",
      " jasnozłoty po francuza poufali krajów wtłoczyć mglisty suwarów w słowa oczyma odmiana możemy na szubie poglądał już mglisty do marszu gmachu krajów pytań robić mniej świadki odmiana kroczy na francuza krajów co zacz o dwa trzyma mowy ostrzem robić do mieście pytania czwartą kroczy rumieniec oblekły odmiana mglisty po francuza krajów razem\n",
      " francusku krajów pilni się ozdobie dowie kroczy dowie na kształt ogrodowych śmieszyć wojewody\n",
      " dziewic wchodzi obszerności kroczy zwykła z której psów «mój sędzio że krajów ubranie się wszystkim krajów rodzi na trzyma pytania czwartą dowie na francuza kształt śniegu runa krajów suwarów w pole jest smugów zabierać\n",
      " nagle głośno po młody sądzie śmieszyć krajów\n",
      " zabawki robić na francuza krajów dowie krajów wtłoczyć mglisty na francuza krajów wtłoczyć robić suwarów w francusku pudermanie ozdobie krajów gorszą od nogajów tobie odgadywał gorszą zdrowie mglisty rodzi się zacietrzewiony odmiana młodzieniec do dziwo śmieszyć lub papugą odmiana wzdłuż i głos zabierać wycięty czwartą po francuza krajów pustym po francusku niewola sądzie odmiana krajów mglisty po szubie krajów\n",
      "\n"
     ]
    }
   ],
   "source": [
    "print(lll)"
   ]
  },
  {
   "cell_type": "code",
   "execution_count": null,
   "metadata": {},
   "outputs": [],
   "source": []
  }
 ],
 "metadata": {
  "kernelspec": {
   "display_name": "Python 3",
   "language": "python",
   "name": "python3"
  },
  "language_info": {
   "codemirror_mode": {
    "name": "ipython",
    "version": 3
   },
   "file_extension": ".py",
   "mimetype": "text/x-python",
   "name": "python",
   "nbconvert_exporter": "python",
   "pygments_lexer": "ipython3",
   "version": "3.7.6"
  }
 },
 "nbformat": 4,
 "nbformat_minor": 4
}
